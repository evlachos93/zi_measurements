{
 "cells": [
  {
   "cell_type": "markdown",
   "id": "587f7358",
   "metadata": {},
   "source": [
    "# General Kernel Settings"
   ]
  },
  {
   "cell_type": "code",
   "execution_count": null,
   "id": "04422a72",
   "metadata": {},
   "outputs": [],
   "source": [
    "%load_ext autoreload\n",
    "%autoreload 2\n",
    "%matplotlib inline"
   ]
  },
  {
   "cell_type": "markdown",
   "id": "6df570c4",
   "metadata": {},
   "source": [
    "# Import Modules"
   ]
  },
  {
   "cell_type": "code",
   "execution_count": null,
   "id": "246baf73",
   "metadata": {},
   "outputs": [],
   "source": [
    "import pandas as pd\n",
    "import experiment_funcs as expf\n",
    "import numpy as np\n",
    "import plot_functions_nb as pf\n",
    "import scipy as scy\n",
    "import matplotlib.pyplot as plt\n",
    "from random import sample\n",
    "import matplotlib as mpl\n",
    "import seaborn as sns"
   ]
  },
  {
   "cell_type": "markdown",
   "id": "76cc9dea",
   "metadata": {},
   "source": [
    "# Plotting"
   ]
  },
  {
   "cell_type": "markdown",
   "id": "522eeb4b",
   "metadata": {},
   "source": [
    "## Set Global Plotting Parameters "
   ]
  },
  {
   "cell_type": "code",
   "execution_count": null,
   "id": "b8429f03",
   "metadata": {},
   "outputs": [],
   "source": [
    "mpl.rcParams['lines.linewidth'] = 2\n",
    "mpl.rcParams['lines.linestyle'] = '-'\n",
    "mpl.rcParams['axes.titlesize'] =   20\n",
    "mpl.rcParams['axes.labelsize'] =   12\n",
    "mpl.rcParams['lines.linewidth'] =   3\n",
    "mpl.rcParams['lines.markersize'] =  8\n",
    "mpl.rcParams['xtick.labelsize'] =   12\n",
    "mpl.rcParams['ytick.labelsize'] =  12"
   ]
  },
  {
   "cell_type": "code",
   "execution_count": null,
   "id": "fd4eb722",
   "metadata": {},
   "outputs": [],
   "source": [
    "mpl.rcdefaults()"
   ]
  },
  {
   "cell_type": "code",
   "execution_count": null,
   "id": "a180716c",
   "metadata": {},
   "outputs": [],
   "source": [
    "def convertB0_mV_to_kHz(B0_mV):\n",
    "    return 62.1*B0_mV+6.75"
   ]
  },
  {
   "cell_type": "markdown",
   "id": "9647e8f2",
   "metadata": {},
   "source": [
    "## Some Plotting Functions"
   ]
  },
  {
   "cell_type": "code",
   "execution_count": null,
   "id": "ee0e6097",
   "metadata": {
    "code_folding": [
     0
    ]
   },
   "outputs": [],
   "source": [
    "def sweep_plot_surf(x_data,y_data,z_data,z_data_background,data='tau',noiseType=1,sweep_type='B0_nu',\n",
    "                    azim=-30):\n",
    "    if len(z_data_background) == 0:\n",
    "        label = \"$\\\\tau$ ($\\mu$s)\"\n",
    "    else:\n",
    "        label = \"$\\\\tau/\\\\tau_0$\"\n",
    "        z_data = z_data/z_data_background\n",
    "    # fill up data to make parameter grid square (requirement for surface plots)\n",
    "    if len(x_data) < len(y_data):\n",
    "        y_data_mod = y_data\n",
    "        x_data_mod = np.append(np.zeros(len(y_data)-len(x_data)),x_data)\n",
    "        z_data_mod = np.append(np.zeros((len(y_data)-len(x_data),len(y_data))),z_data,axis=0)\n",
    "    elif len(x_data) > len(y_data):\n",
    "        x_data_mod = x_data\n",
    "        y_data_mod = np.append(np.zeros(len(x_data)-len(y_data)),y_data)\n",
    "        z_data_mod = np.append(np.zeros((len(x_data),len(x_data)-len(y_data))),z_data,axis=1)\n",
    "    else:\n",
    "        x_data_mod = x_data\n",
    "        y_data_mod = y_data\n",
    "        z_data_mod = z_data\n",
    "\n",
    "    X,Y = np.meshgrid(x_data_mod,y_data_mod)\n",
    "    fig,ax = plt.subplots(subplot_kw={\"projection\": \"3d\"},dpi=300)\n",
    "    \n",
    "    colormap = plt.cm.jet\n",
    "    \n",
    "    surface_options = {\n",
    "        'cmap':     colormap,\n",
    "        'linewidths':   0,\n",
    "        'shade':    False,\n",
    "    }\n",
    "    \n",
    "    surf = ax.plot_surface(np.transpose(X),np.transpose(Y),z_data_mod,**surface_options)\n",
    "\n",
    "    ax.set_zlabel(label,labelpad=-10)\n",
    "    ax.view_init(elev=25,azim=azim)\n",
    "    plt.xticks(rotation=-30,size=8)\n",
    "    plt.yticks(rotation=30,size=8)\n",
    "    ax.zaxis.set_ticklabels([])\n",
    "    ax.set_xlim((min(x_data),max(x_data)))\n",
    "    \n",
    "    cbar_options = {\n",
    "        'cmap':     colormap,\n",
    "        'ticks':    np.around(np.linspace(0,np.amax(z_data_mod)+0.5,12)),\n",
    "        'pad':      0.1,\n",
    "        'values':   np.linspace(0,np.amax(z_data_mod)+0.5,1000),\n",
    "        'shrink':   0.5,\n",
    "        'location': 'top',\n",
    "    }\n",
    "\n",
    "    cbar = fig.colorbar(surf,**cbar_options)\n",
    "    cbar.set_label(label=label,y=-5,labelpad=-45)\n",
    "    ax.tick_params(axis='both',direction='in',bottom=True, top=True, left=True, right=True,size=8,\n",
    "                   pad=-2)\n",
    "        \n",
    "    label_options = {\n",
    "        'labelpad':   0,\n",
    "        'fontsize':   8,\n",
    "    }\n",
    "    if noiseType == 1:\n",
    "        ax.set_xlabel(\"$B_0 (kHz)$\",**label_options)\n",
    "        ax.set_ylabel(\"$\\\\tau_k (\\mu s)$\",**label_options)\n",
    "    elif noiseType == 2 and sweep_type == 'B0_nu':\n",
    "        ax.set_xlabel(\"$B_0 (kHz)$\",**label_options)\n",
    "        ax.set_ylabel(\"$\\\\nu$ (kHz)\",**label_options)\n",
    "    elif noiseType == 2 and sweep_type == 'nu_tauk':\n",
    "        ax.set_xlabel(\"$\\\\nu$ (kHz)\",**label_options)\n",
    "        ax.set_ylabel(\"$\\\\tau_k (\\mu s)$\",**label_options)\n",
    "    \n",
    "    if data == 'tau':\n",
    "        label = \"$\\\\tau$ ($\\mu$s)\"\n",
    "    elif data == 'omega':\n",
    "        label = \"$\\omega$ (MHz)\"\n",
    "\n",
    "    return fig,ax"
   ]
  },
  {
   "cell_type": "code",
   "execution_count": null,
   "id": "d2bf67bc",
   "metadata": {
    "code_folding": [
     0
    ]
   },
   "outputs": [],
   "source": [
    "def sweep_plot_contour(x_data,y_data,z_data,z_data_background,data='tau',noiseType=1,sweep_type='B0_nu'):\n",
    "     \n",
    "    if len(z_data_background) == 0:\n",
    "        label = \"$\\\\tau$ ($\\mu$s)\"\n",
    "    else:\n",
    "        label = \"$\\\\tau/\\\\tau_0$\"\n",
    "        z_data = z_data/z_data_background\n",
    "        \n",
    "    fig,ax = plt.subplots(figsize=(10,7.5), dpi=1200)\n",
    "    \n",
    "    colormap = plt.cm.bone\n",
    "    \n",
    "    contour_options = {\n",
    "        'levels':   np.linspace(0,np.amax(z_data)+0.3,100),\n",
    "        'vmin':     1,\n",
    "        'vmax':     np.amax(z_data),\n",
    "        'cmap':     colormap,\n",
    "        'alpha':     1,\n",
    "    }\n",
    "    cont = ax.contourf(x_data,y_data,np.transpose(z_data),**contour_options)\n",
    "    \n",
    "    cbar_options = {\n",
    "        'cmap':     colormap,\n",
    "        'ticks':    np.around(np.linspace(0,np.amax(z_data)+0.3,5),0),\n",
    "        'pad':      0.13,\n",
    "        'values':   np.linspace(0,np.amax(z_data)+0.3,1000),\n",
    "        'shrink':   0.8,\n",
    "        'location': 'top',\n",
    "    }\n",
    "\n",
    "    cbar = fig.colorbar(cont,**cbar_options)\n",
    "    cbar.set_label(label=label,y=-10,labelpad=-60,fontsize=20)\n",
    "    #plt.xticks(ticks=np.around(np.linspace(x_data[1],x_data[-1],6),0))\n",
    "#     ytickmarks = [0.1,0.5,1,2,5,10,20]\n",
    "    #ax.set_aspect(2)\n",
    "#     plt.yticks(ticks=ytickmarks)\n",
    "    #labelsize = 13\n",
    "    #tickLabelSize = 6\n",
    "    #labelpad = 2\n",
    "    \n",
    "    \n",
    "    label_options = {\n",
    "        'labelpad':   5,\n",
    "        'fontsize':   20,\n",
    "    }\n",
    "    if noiseType == 1:\n",
    "        ax.set_xlabel(\"$B_0 (kHz)$\",**label_options)\n",
    "        ax.set_ylabel(\"$\\\\tau_k (\\mu s)$\",**label_options)\n",
    "    elif noiseType == 2 and sweep_type == 'B0_nu':\n",
    "        ax.set_xlabel(\"$B_0 (kHz)$\",**label_options)\n",
    "        ax.set_ylabel(\"$\\\\nu$ (kHz)\",**label_options)\n",
    "    elif noiseType == 2 and sweep_type == 'nu_tauk':\n",
    "        ax.set_xlabel(\"$\\\\nu$ (kHz)\",**label_options)\n",
    "        ax.set_ylabel(\"$\\\\tau_k (\\mu s)$\",**label_options)\n",
    "\n",
    "    if data == 'tau':\n",
    "        label = \"$\\\\tau$ ($\\mu$s)\"\n",
    "    elif data == 'omega':\n",
    "        label = \"$\\omega$ (MHz)\"\n",
    "    ax.tick_params(axis='both',which='both',direction='out',top=True,bottom=True,left=True,right=True,\n",
    "                   size=10)\n",
    "    plt.xticks(fontsize=20)\n",
    "    plt.yticks(fontsize=20)\n",
    "\n",
    "    return fig,ax"
   ]
  },
  {
   "cell_type": "code",
   "execution_count": null,
   "id": "1da237f9",
   "metadata": {
    "code_folding": [
     0,
     78
    ]
   },
   "outputs": [],
   "source": [
    "def heatmap(data, row_labels, col_labels,\n",
    "            cbar_options={},filename={}, **kwargs):\n",
    "    \"\"\"\n",
    "    Create a heatmap from a numpy array and two lists of labels.\n",
    "\n",
    "    Parameters\n",
    "    ----------\n",
    "    data\n",
    "        A 2D numpy array of shape (M, N).\n",
    "    row_labels\n",
    "        A list or array of length M with the labels for the rows.\n",
    "    col_labels\n",
    "        A list or array of length N with the labels for the columns.\n",
    "    ax\n",
    "        A `matplotlib.axes.Axes` instance to which the heatmap is plotted.  If\n",
    "        not provided, use current axes or create a new one.  Optional.\n",
    "    cbar_kw\n",
    "        A dictionary with arguments to `matplotlib.Figure.colorbar`.  Optional.\n",
    "    cbarlabel\n",
    "        The label for the colorbar.  Optional.\n",
    "    **kwargs\n",
    "        All other arguments are forwarded to `imshow`.\n",
    "    \"\"\"\n",
    "    fontsize = 20\n",
    "    fig,ax = plt.subplots(figsize=(10,7.5), dpi=600)\n",
    "    # Create colorbar\n",
    "    cbar_opts = {\n",
    "#         'cmap':     'seismic',\n",
    "        'ticks':    np.around(np.linspace(0,2,5),0),\n",
    "        'pad':      0.05,\n",
    "        'values':   np.linspace(0,2,1000),\n",
    "        'shrink':   0.8,\n",
    "        'location': 'right',\n",
    "    }\n",
    "    \n",
    "    heatmap_opts = {\n",
    "       'ax':    ax,\n",
    "        'linewidths':  0.5,\n",
    "        'xticklabels': row_labels,\n",
    "        'yticklabels': col_labels,\n",
    "        'vmin':        0,\n",
    "        'vmax':        np.amax(data)\n",
    "        \n",
    "    }\n",
    "    # Plot the heatmap\n",
    "    ax = sns.heatmap(data,center=1,**heatmap_opts,cmap='seismic',square=True,\n",
    "                     cbar_kws=cbar_options)\n",
    "    \n",
    "#     cbar_label = \"$\\\\tau/\\\\tau_0$\"\n",
    "#     cbar = fig.colorbar(fig,**cbar_options)\n",
    "#     cbar.set_label(label=label,x=0,fontsize=30,rotation=-90)\n",
    "\n",
    "    # Show all ticks and label them with the respective list entries.\n",
    "#     ax.set_xticks(np.arange(data.shape[1]), labels=col_labels,fontsize=fontsize)\n",
    "#     ax.set_yticks(np.arange(data.shape[0]), labels=row_labels,fontsize=fontsize)\n",
    "\n",
    "    # Let the horizontal axes labeling appear on top.\n",
    "#     ax.tick_params(top=True, bottom=False,\n",
    "#                    labeltop=True, labelbottom=False,size=10)\n",
    "\n",
    "    # Rotate the tick labels and set their alignment.\n",
    "#     plt.setp(ax.get_xticklabels(), rotation=-30, ha=\"right\",\n",
    "#              rotation_mode=\"anchor\")\n",
    "\n",
    "    # Turn spines off and create white grid.\n",
    "    ax.spines[:].set_visible(False)\n",
    "\n",
    "    ax.set_xticks(np.arange(data.shape[1]+1)-.5, minor=True)\n",
    "    ax.set_yticks(np.arange(data.shape[0]+1)-.5, minor=True)\n",
    "    ax.grid(which=\"minor\", color=\"w\", linestyle='-', linewidth=0.1)\n",
    "    ax.tick_params(which=\"minor\", bottom=False, left=False)\n",
    "    ax.invert_yaxis()\n",
    "    plt.savefig(\"G:\\\\Shared drives\\\\LFL\\\\Projects\\\\Generalized Markovian noise\\\\paper-figures\\\\noiseTypeII\\\\sweep\\\\\"+filename, bbox_inches=\"tight\",\n",
    "            pad_inches=0.3, transparent=True,format='eps')\n",
    "    plt.show()\n",
    "    return ax\n",
    "\n",
    "\n",
    "def annotate_heatmap(im, data=None, valfmt=\"{x:.2f}\",\n",
    "                     textcolors=(\"black\", \"white\"),\n",
    "                     threshold=None, **textkw):\n",
    "    \"\"\"\n",
    "    A function to annotate a heatmap.\n",
    "\n",
    "    Parameters\n",
    "    ----------\n",
    "    im\n",
    "        The AxesImage to be labeled.\n",
    "    data\n",
    "        Data used to annotate.  If None, the image's data is used.  Optional.\n",
    "    valfmt\n",
    "        The format of the annotations inside the heatmap.  This should either\n",
    "        use the string format method, e.g. \"$ {x:.2f}\", or be a\n",
    "        `matplotlib.ticker.Formatter`.  Optional.\n",
    "    textcolors\n",
    "        A pair of colors.  The first is used for values below a threshold,\n",
    "        the second for those above.  Optional.\n",
    "    threshold\n",
    "        Value in data units according to which the colors from textcolors are\n",
    "        applied.  If None (the default) uses the middle of the colormap as\n",
    "        separation.  Optional.\n",
    "    **kwargs\n",
    "        All other arguments are forwarded to each call to `text` used to create\n",
    "        the text labels.\n",
    "    \"\"\"\n",
    "\n",
    "    if not isinstance(data, (list, np.ndarray)):\n",
    "        data = im.get_array()\n",
    "\n",
    "    # Normalize the threshold to the images color range.\n",
    "    if threshold is not None:\n",
    "        threshold = im.norm(threshold)\n",
    "    else:\n",
    "        threshold = im.norm(data.max())/2.\n",
    "\n",
    "    # Set default alignment to center, but allow it to be\n",
    "    # overwritten by textkw.\n",
    "    kw = dict(horizontalalignment=\"center\",\n",
    "              verticalalignment=\"center\")\n",
    "    kw.update(textkw)\n",
    "\n",
    "    # Get the formatter in case a string is supplied\n",
    "    if isinstance(valfmt, str):\n",
    "        valfmt = matplotlib.ticker.StrMethodFormatter(valfmt)\n",
    "\n",
    "    # Loop over the data and create a `Text` for each \"pixel\".\n",
    "    # Change the text's color depending on the data.\n",
    "    texts = []\n",
    "    for i in range(data.shape[0]):\n",
    "        for j in range(data.shape[1]):\n",
    "            kw.update(color=textcolors[int(im.norm(data[i, j]) > threshold)])\n",
    "            text = im.axes.text(j, i, valfmt(data[i, j], None), **kw)\n",
    "            texts.append(text)\n",
    "\n",
    "    return texts"
   ]
  },
  {
   "cell_type": "markdown",
   "id": "686910a4",
   "metadata": {},
   "source": [
    "# XY sequence"
   ]
  },
  {
   "cell_type": "markdown",
   "id": "6d1f6673",
   "metadata": {},
   "source": [
    "In this sequence, the $\\pi/2$ pulses have been replaced by a single $\\pi$ pulse before the playback of the noise waveforms. The fidelity is checked against the excited |1> state. The I channel of the mixer is connected to the generalized-markovian noise instance, while the Q channel to the white noise instance. "
   ]
  },
  {
   "cell_type": "markdown",
   "id": "4b54e5f4",
   "metadata": {},
   "source": [
    "## Noise Type 1"
   ]
  },
  {
   "cell_type": "markdown",
   "id": "6f200110",
   "metadata": {},
   "source": [
    "#### Sweep 84"
   ]
  },
  {
   "cell_type": "code",
   "execution_count": null,
   "id": "1da3e570",
   "metadata": {
    "scrolled": true
   },
   "outputs": [],
   "source": [
    "B0 = [290e-6,1500e-6,7940e-6,15990e-6,24050e-6,32100e-6,40150e-6,48200e-6,56250e-6,64300e-6]\n",
    "tau = [0.1, 2, 5, 10, 20, 1000000000000.0]\n",
    "nu = [0]\n",
    "B0_kHz = [convertB0_mV_to_kHz(i*1e3) for i in B0]\n",
    "detun_arr, T2_arr,  T2_b_arr, error_T2_arr, error_T2_b_arr = pf.fit_sweep(par1=B0,par2=tau,par3=nu,\n",
    "            sweep='sweep_084',noiseType=1,nBackMeasurements=100,nMeasurements=100)"
   ]
  },
  {
   "cell_type": "code",
   "execution_count": null,
   "id": "8c9ea166",
   "metadata": {},
   "outputs": [],
   "source": [
    "T2_arr[:,-2]"
   ]
  },
  {
   "cell_type": "code",
   "execution_count": null,
   "id": "5917f9c1",
   "metadata": {},
   "outputs": [],
   "source": [
    "T2_b_arr[:,-2]"
   ]
  },
  {
   "cell_type": "code",
   "execution_count": null,
   "id": "4872ae5e",
   "metadata": {},
   "outputs": [],
   "source": [
    "B0_kHz"
   ]
  },
  {
   "cell_type": "code",
   "execution_count": null,
   "id": "57c7a6a7",
   "metadata": {},
   "outputs": [],
   "source": [
    "B0_kHz = [convertB0_mV_to_kHz(i*1e3) for i in B0]\n",
    "# im, cbar = heatmap(T2_arr/T2_b_arr,[],tau,np.around(B0_kHz))\n",
    "pf.plot_slice(B0_kHz,nu[0],[tau[-2]],'B0',T2_arr[:,-2]/T2_b_arr[:,-2],error_T2_arr[:,-2])"
   ]
  },
  {
   "cell_type": "markdown",
   "id": "5249ce5b",
   "metadata": {},
   "source": [
    "#### Sweep 87"
   ]
  },
  {
   "cell_type": "code",
   "execution_count": null,
   "id": "fad22425",
   "metadata": {},
   "outputs": [],
   "source": [
    "B0 = [0.00029, 0.00794, 0.01599, 0.02002, 0.02405, 0.02807, 0.0321 ,\n",
    "       0.03612, 0.04015, 0.04417, 0.0482 ]\n",
    "tau = [0.1, 2, 5, 10, 20, 1000000000000.0]\n",
    "nu = [0]\n",
    "B0_kHz = [convertB0_mV_to_kHz(i*1e3) for i in B0]\n",
    "detun_arr, T2_arr,  T2_b_arr, error_T2_arr, error_T2_b_arr = pf.fit_sweep(par1=B0,par2=tau,par3=nu,\n",
    "            sweep='sweep_087',noiseType=1,nBackMeasurements=100,nMeasurements=100)"
   ]
  },
  {
   "cell_type": "code",
   "execution_count": null,
   "id": "afce6859",
   "metadata": {},
   "outputs": [],
   "source": [
    "T2_arr[5,2]/T2_b_arr[5,2]"
   ]
  },
  {
   "cell_type": "code",
   "execution_count": null,
   "id": "b819d216",
   "metadata": {},
   "outputs": [],
   "source": [
    "T2_b_arr"
   ]
  },
  {
   "cell_type": "code",
   "execution_count": null,
   "id": "ecedcc59",
   "metadata": {},
   "outputs": [],
   "source": [
    "T2_arr/T2_b_arr"
   ]
  },
  {
   "cell_type": "code",
   "execution_count": null,
   "id": "07eb317f",
   "metadata": {},
   "outputs": [],
   "source": [
    "heatmap(T2_arr/np.mean(T2_b_arr),[],tau,B0_kHz)"
   ]
  },
  {
   "cell_type": "code",
   "execution_count": null,
   "id": "b9c676f2",
   "metadata": {},
   "outputs": [],
   "source": [
    "T2_arr[-2,:-1]/T2_b_arr[-2,:-1]"
   ]
  },
  {
   "cell_type": "code",
   "execution_count": null,
   "id": "6d05f9f8",
   "metadata": {},
   "outputs": [],
   "source": [
    "tau"
   ]
  },
  {
   "cell_type": "code",
   "execution_count": null,
   "id": "0470e0ff",
   "metadata": {},
   "outputs": [],
   "source": [
    "pf.plot_slice(B0_kHz[-2],nu[0],tau[:-1],'tau_k',T2_arr[-2,:-1]/T2_b_arr[-2,:-1],error_T2_arr[-2,:-1])"
   ]
  },
  {
   "cell_type": "code",
   "execution_count": null,
   "id": "2845be70",
   "metadata": {},
   "outputs": [],
   "source": [
    "B0_kHz[:] "
   ]
  },
  {
   "cell_type": "code",
   "execution_count": null,
   "id": "fc6dbc8b",
   "metadata": {},
   "outputs": [],
   "source": [
    "\n",
    "pf.plot_slice(B0_kHz,nu[0],[tau[-2]],'B0',T2_arr[:,-2]/T2_b_arr[:,-2],error_T2_arr[:,-2])"
   ]
  },
  {
   "cell_type": "markdown",
   "id": "01c26625",
   "metadata": {},
   "source": [
    "## Slice Plots"
   ]
  },
  {
   "cell_type": "code",
   "execution_count": null,
   "id": "10feb39e",
   "metadata": {},
   "outputs": [],
   "source": [
    "B0_kHz = [convertB0_mV_to_kHz(i*1e3) for i in B0]"
   ]
  },
  {
   "cell_type": "code",
   "execution_count": null,
   "id": "f3986d81",
   "metadata": {},
   "outputs": [],
   "source": [
    "B0 = [0.00029388, 0.00794283, 0.0119686 , 0.01599436, 0.02002013,\n",
    "       0.03209742, 0.03612319, 0.04014895, 0.04417472, 0.04820048]\n",
    "nu = [0]\n",
    "tau=[20]\n",
    "B0_kHz = [convertB0_mV_to_kHz(i*1e3) for i in B0]\n",
    "detun_arr, T2_arr,  T2_b_arr, error_T2_arr, error_T2_b_arr = pf.fit_sweep(par1=B0,par2=tau,par3=nu,\n",
    "            sweep='sweep_097',noiseType=1,nMeasurements=100,nBackMeasurements=100)"
   ]
  },
  {
   "cell_type": "code",
   "execution_count": null,
   "id": "084a04ca",
   "metadata": {},
   "outputs": [],
   "source": [
    "pf.plot_slice(B0_kHz,nu[0],[20],'B0',T2_arr[:,0]/T2_b_arr[:,0],error_T2_arr[:,0])"
   ]
  },
  {
   "cell_type": "code",
   "execution_count": null,
   "id": "61819fcb",
   "metadata": {},
   "outputs": [],
   "source": [
    "B0 = [0.00029388, 0.00391707, 0.00633253, 0.00794283, 0.00955314,\n",
    "       0.0119686 , 0.01599436, 0.02002013, 0.03209742, 0.03612319,\n",
    "       0.04014895, 0.04417472, 0.04820048, 0.05625201, 0.06430354,\n",
    "       0.0804066 ]\n",
    "nu = [0]\n",
    "tau=[1e12]\n",
    "B0_kHz = [convertB0_mV_to_kHz(i*1e3) for i in B0]\n",
    "detun_arr, T2_arr,  T2_b_arr, error_T2_arr, error_T2_b_arr = pf.fit_sweep(par1=B0,par2=tau,par3=nu,\n",
    "            sweep='sweep_093',noiseType=1,nMeasurements=100,nBackMeasurements=100)"
   ]
  },
  {
   "cell_type": "code",
   "execution_count": null,
   "id": "80243f50",
   "metadata": {},
   "outputs": [],
   "source": [
    "pf.plot_slice(B0_kHz,nu[0],[20],'B0',T2_arr[:,0]/T2_b_arr[:,0],error_T2_arr[:,0])"
   ]
  },
  {
   "cell_type": "code",
   "execution_count": null,
   "id": "b3339822",
   "metadata": {},
   "outputs": [],
   "source": [
    "B0 = [0.0321 ]\n",
    "nu = [0]\n",
    "tau=[0.1, 0.5, 1, 2, 4, 6, 10, 20, 100]\n",
    "B0_kHz = convertB0_mV_to_kHz(B0[0]*1e3) \n",
    "detun_arr, T2_arr,  T2_b_arr, error_T2_arr, error_T2_b_arr = pf.fit_sweep(par1=B0,par2=tau,par3=nu,\n",
    "            sweep='sweep_095',noiseType=1,nMeasurements=100,nBackMeasurements=100)"
   ]
  },
  {
   "cell_type": "code",
   "execution_count": null,
   "id": "65fcda07",
   "metadata": {},
   "outputs": [],
   "source": [
    "pf.plot_slice(B0_kHz,nu[0],tau[:-1],'tau_k',T2_arr[0,:-1]/T2_b_arr[0,:-1],error_T2_arr[0,:-1])"
   ]
  },
  {
   "cell_type": "markdown",
   "id": "5499318e",
   "metadata": {},
   "source": [
    "### Wiener-Kinchin"
   ]
  },
  {
   "cell_type": "code",
   "execution_count": null,
   "id": "8de21cd9",
   "metadata": {},
   "outputs": [],
   "source": [
    "B0 = [0.0321]\n",
    "nu = [0]\n",
    "tau = [3e12]"
   ]
  },
  {
   "cell_type": "code",
   "execution_count": null,
   "id": "0d4dfcc7",
   "metadata": {},
   "outputs": [],
   "source": [
    "pars = pf.plot_single_par_point(B0[0],nu[0],tau[0],'sweep_086',nMeasurements=100,nBackMeasurements=100,noiseType=1,fitFunc='envelope')"
   ]
  },
  {
   "cell_type": "markdown",
   "id": "4af654af",
   "metadata": {},
   "source": [
    "## Noise Type 2"
   ]
  },
  {
   "cell_type": "markdown",
   "id": "4bffb4fe",
   "metadata": {},
   "source": [
    "### Sweep 85"
   ]
  },
  {
   "cell_type": "code",
   "execution_count": null,
   "id": "7481af53",
   "metadata": {},
   "outputs": [],
   "source": [
    "B0 = [290e-6,7940e-6,15990e-6,20020e-6,24050e-6,28070e-6,32100e-6,36120e-6,40150e-6,44170e-6,48200e-6]\n",
    "tau = [3e12]\n",
    "nu = [  12.5,  250. ,  500. ,  625. ,  750. ,  875. , 1000. , 1125. ,\n",
    "       1250. , 1375. , 1500. , 3000. ]\n",
    "B0_kHz = [convertB0_mV_to_kHz(i*1e3) for i in B0]\n",
    "detun_arr, T2_arr,  T2_b_arr, error_T2_arr, error_T2_b_arr = pf.fit_sweep(par1=B0,par2=nu,par3=tau,\n",
    "            sweep='sweep_085',noiseType=2,nBackMeasurements=100,nMeasurements=100,\n",
    "            fitFunc='envelope',sweep_type='B0_nu')"
   ]
  },
  {
   "cell_type": "markdown",
   "id": "952b5584",
   "metadata": {},
   "source": [
    "1D plot where B0 is increased and nu held fixed."
   ]
  },
  {
   "cell_type": "code",
   "execution_count": null,
   "id": "2c1130c6",
   "metadata": {},
   "outputs": [],
   "source": [
    "B0 = [294e-6,7943e-6,11969e-6,15994e-6,20020e-6,32097e-6,36123e-6,40149e-6,44175e-6,48200e-6]\n",
    "tau = [1e12]\n",
    "nu = [ 1000]\n",
    "B0_kHz = [convertB0_mV_to_kHz(i*1e3) for i in B0]\n",
    "detun_arr, T2_arr,  T2_b_arr, error_T2_arr, error_T2_b_arr = pf.fit_sweep(par1=B0,par2=nu,par3=tau,\n",
    "            sweep='sweep_096',noiseType=2,nBackMeasurements=100,nMeasurements=100,\n",
    "            fitFunc='envelope',sweep_type='B0_nu')"
   ]
  },
  {
   "cell_type": "code",
   "execution_count": null,
   "id": "260be6e4",
   "metadata": {
    "scrolled": true
   },
   "outputs": [],
   "source": [
    "B0 = [0.00391707, 0.00552738, 0.00713768, 0.00874799, 0.01035829,\n",
    "       0.0119686 , 0.0135789 , 0.01518921, 0.01679952, 0.01840982,\n",
    "       0.02002013, 0.02163043, 0.02324074, 0.02485105, 0.02646135,\n",
    "       0.02807166, 0.02968196, 0.03129227, 0.03290258,0.034062, 0.03451288,\n",
    "       0.03612319, 0.03773349, 0.0393438 , 0.04095411, 0.04256441,\n",
    "       0.04417472, 0.04578502, 0.04739533,0.0482, 0.04900564, 0.05061594,\n",
    "       0.05222625, 0.05383655, 0.05544686, 0.05705717, 0.05866747,\n",
    "       0.06027778, 0.06188808, 0.06349839]\n",
    "tau = [1e12]\n",
    "nu = [1500]\n",
    "B0_kHz = [convertB0_mV_to_kHz(i*1e3) for i in B0]\n",
    "detun_arr, T2_arr,  T2_b_arr, error_T2_arr, error_T2_b_arr = pf.fit_sweep(par1=B0,par2=nu,par3=tau,\n",
    "            sweep='sweep_098',noiseType=2,nBackMeasurements=100,nMeasurements=100,\n",
    "            fitFunc='envelope',sweep_type='B0_nu')"
   ]
  },
  {
   "cell_type": "code",
   "execution_count": null,
   "id": "29a37b2a",
   "metadata": {},
   "outputs": [],
   "source": [
    "T2_arr[5] = 1.6"
   ]
  },
  {
   "cell_type": "code",
   "execution_count": null,
   "id": "194fbacf",
   "metadata": {},
   "outputs": [],
   "source": [
    "errs = np.zeros(len(B0))\n",
    "for i in range(len(B0)):\n",
    "    errs[i] = T2_arr[i]/T2_b_arr[i]*np.sqrt((error_T2_arr[i]/T2_b_arr[i])**2+(error_T2_b_arr[i]/T2_b_arr[i])**2)\n"
   ]
  },
  {
   "cell_type": "code",
   "execution_count": null,
   "id": "0c529767",
   "metadata": {},
   "outputs": [],
   "source": [
    "errs"
   ]
  },
  {
   "cell_type": "code",
   "execution_count": null,
   "id": "adcded2e",
   "metadata": {},
   "outputs": [],
   "source": [
    "pf.plot_slice(B0_kHz[4::2],nu[0],[1e12],'B0',np.transpose(T2_arr/T2_b_arr)[0,4::2],errs[4::2])"
   ]
  },
  {
   "cell_type": "markdown",
   "id": "d49d39d8",
   "metadata": {},
   "source": [
    "### Testing the variance of the oscillations seen in the slice plot above"
   ]
  },
  {
   "cell_type": "code",
   "execution_count": null,
   "id": "420a504d",
   "metadata": {
    "scrolled": true
   },
   "outputs": [],
   "source": [
    "B0 = [0.0393438 , 0.04095411, 0.04256441]\n",
    "tau = [1e12]\n",
    "nu = [1500]\n",
    "B0_kHz = [convertB0_mV_to_kHz(i*1e3) for i in B0]\n",
    "detun_arr, T2_arr,  T2_b_arr, error_T2_arr, error_T2_b_arr = pf.fit_sweep(par1=B0,par2=nu,par3=tau,\n",
    "            sweep='sweep_099',noiseType=2,nBackMeasurements=100,nMeasurements=100,\n",
    "            fitFunc='envelope',sweep_type='B0_nu',iterations=3)"
   ]
  },
  {
   "cell_type": "markdown",
   "id": "4c790fb4",
   "metadata": {},
   "source": [
    "### Sweep 101"
   ]
  },
  {
   "cell_type": "code",
   "execution_count": null,
   "id": "29b8f604",
   "metadata": {},
   "outputs": [],
   "source": [
    "B0 = [0.00150161, 0.00155148, 0.00682926, 0.00955314, 0.01247468,\n",
    "       0.01760467, 0.01814985, 0.02383363, 0.0256562 , 0.02952106,\n",
    "       0.03370773, 0.03521038, 0.04175926, 0.04981079]\n",
    "nu = [  50,  300,  550,  800, 1050, 1300, 1550]\n",
    "tau = [1e12]\n",
    "B0_kHz = [convertB0_mV_to_kHz(i*1e3) for i in B0]\n",
    "detun_arr, T2_arr,  T2_b_arr, error_T2_arr, error_T2_b_arr = pf.fit_sweep(par1=B0,par2=nu,par3=tau,\n",
    "            sweep='sweep_101',noiseType=2,nBackMeasurements=100,nMeasurements=100,\n",
    "            fitFunc='envelope',sweep_type='B0_nu')"
   ]
  },
  {
   "cell_type": "code",
   "execution_count": null,
   "id": "440d9bf2",
   "metadata": {},
   "outputs": [],
   "source": [
    "heatmap(T2_arr/np.mean(T2_b_arr),[],nu,B0_kHz)"
   ]
  },
  {
   "cell_type": "markdown",
   "id": "eb684cf6",
   "metadata": {},
   "source": [
    "### Sweep 102 - 1D sweep of $\\tau_k$ - Noise Type 2"
   ]
  },
  {
   "cell_type": "code",
   "execution_count": null,
   "id": "f389b589",
   "metadata": {},
   "outputs": [],
   "source": [
    "B0 = [0.04820048309178744]\n",
    "nu = [1500]\n",
    "tau = [0.1, 0.5, 1.4, 3, 5, 10,12, 20,100000000000]\n",
    "B0_kHz = [convertB0_mV_to_kHz(i*1e3) for i in B0]\n",
    "detun_arr, T2_arr,  T2_b_arr, error_T2_arr, error_T2_b_arr = pf.fit_sweep(par1=nu,par2=tau,par3=B0,\n",
    "            sweep='sweep_102',noiseType=2,nBackMeasurements=100,nMeasurements=100,\n",
    "            fitFunc='envelope',sweep_type='nu_tauk')"
   ]
  },
  {
   "cell_type": "code",
   "execution_count": null,
   "id": "777c6697",
   "metadata": {},
   "outputs": [],
   "source": [
    "T2_arr = T2_arr.flatten()\n",
    "T2_b_arr = T2_b_arr.flatten()\n",
    "error_T2_arr = error_T2_arr.flatten()"
   ]
  },
  {
   "cell_type": "code",
   "execution_count": null,
   "id": "03b25688",
   "metadata": {},
   "outputs": [],
   "source": []
  },
  {
   "cell_type": "code",
   "execution_count": null,
   "id": "f81cdf08",
   "metadata": {},
   "outputs": [],
   "source": [
    "errs = np.zeros(len(tau))\n",
    "for i in range(len(tau)):\n",
    "    errs[i] = T2_arr[i]/T2_b_arr[i]*np.sqrt((error_T2_arr[i]/T2_b_arr[i])**2+(error_T2_b_arr[i]/T2_b_arr[i])**2)\n"
   ]
  },
  {
   "cell_type": "code",
   "execution_count": null,
   "id": "df828677",
   "metadata": {},
   "outputs": [],
   "source": [
    "T2_arr[i]/T2_b_arr[i]*np.sqrt((error_T2_arr[i]/T2_b_arr[i])**2+(error_T2_b_arr[i]/T2_b_arr[i])**2)"
   ]
  },
  {
   "cell_type": "code",
   "execution_count": null,
   "id": "04138a13",
   "metadata": {},
   "outputs": [],
   "source": [
    "pf.plot_slice(B0_kHz[0],nu[0],tau,'tau_k',T2_arr[:]/T2_b_arr[:],np.zeros((1,len(T2_arr[:]))))\n"
   ]
  },
  {
   "cell_type": "code",
   "execution_count": null,
   "id": "a350812d",
   "metadata": {},
   "outputs": [],
   "source": [
    "tau"
   ]
  },
  {
   "cell_type": "code",
   "execution_count": null,
   "id": "7691e113",
   "metadata": {},
   "outputs": [],
   "source": []
  },
  {
   "cell_type": "markdown",
   "id": "98f5cff2",
   "metadata": {},
   "source": [
    "### Sweep 103 -- Coarse (5x5) sweep for noisetype II - B0 vs nu"
   ]
  },
  {
   "cell_type": "code",
   "execution_count": null,
   "id": "b5910302",
   "metadata": {},
   "outputs": [],
   "source": [
    "B0 = [0.01599436, 0.03209742, 0.04820048, 0.06430354, 0.0804066 ]\n",
    "nu = [500, 1000, 1500, 2000, 2500]\n",
    "tau = [1e12]\n",
    "B0_kHz = [convertB0_mV_to_kHz(i*1e3) for i in B0]\n",
    "detun_arr, T2_arr,  T2_b_arr, error_T2_arr, error_T2_b_arr = pf.fit_sweep(par1=B0,par2=nu,par3=tau,\n",
    "            sweep='sweep_103',noiseType=2,nBackMeasurements=100,nMeasurements=100,\n",
    "            fitFunc='envelope',sweep_type='B0_nu')"
   ]
  },
  {
   "cell_type": "code",
   "execution_count": null,
   "id": "10813a0a",
   "metadata": {},
   "outputs": [],
   "source": [
    "heatmap(T2_arr/np.mean(T2_b_arr),[],nu,B0_kHz)"
   ]
  },
  {
   "cell_type": "markdown",
   "id": "db9770fa",
   "metadata": {},
   "source": [
    "### Sweep 105 - 2D sweep nu vs tauk"
   ]
  },
  {
   "cell_type": "code",
   "execution_count": null,
   "id": "1d86985e",
   "metadata": {},
   "outputs": [],
   "source": [
    "B0 = [0.01599436, 0.03209742, 0.04820048, 0.06430354, 0.0804066 ]\n",
    "nu = [500, 1000, 1250, 1500, 1750, 2000, 2250, 2500, 3000]\n",
    "tau = [0.1, 0.5, 1, 2, 5, 10, 20, 100]\n",
    "detun_arr, T2_arr,  T2_b_arr, error_T2_arr, error_T2_b_arr = pf.fit_sweep(par1=nu,par2=tau,par3=B0,\n",
    "            sweep='sweep_105',noiseType=2,nBackMeasurements=100,nMeasurements=100,\n",
    "            fitFunc='envelope',sweep_type='nu_tauk')"
   ]
  },
  {
   "cell_type": "code",
   "execution_count": null,
   "id": "664ce97e",
   "metadata": {},
   "outputs": [],
   "source": [
    "T2_arr[0,-2] = 2.1"
   ]
  },
  {
   "cell_type": "code",
   "execution_count": null,
   "id": "84ee4d46",
   "metadata": {},
   "outputs": [],
   "source": [
    "T2_arr"
   ]
  },
  {
   "cell_type": "code",
   "execution_count": null,
   "id": "caba4ac8",
   "metadata": {},
   "outputs": [],
   "source": [
    "heatmap(T2_arr/np.mean(T2_b_arr),tau,nu,filename='sweepExp')"
   ]
  },
  {
   "cell_type": "markdown",
   "id": "33784eb4",
   "metadata": {},
   "source": [
    "# Simulation Data Matlab"
   ]
  },
  {
   "cell_type": "markdown",
   "id": "0ca6eed3",
   "metadata": {},
   "source": [
    "## Noise type 2 - nu vs tauk"
   ]
  },
  {
   "cell_type": "code",
   "execution_count": null,
   "id": "177ef296",
   "metadata": {},
   "outputs": [],
   "source": [
    "from scipy.io import loadmat\n",
    "datafile = loadmat('G:\\Shared drives\\LFL\\Projects\\Generalized Markovian noise\\simulations\\DataFiles\\Aug22\\\\nu_tauk_sweep_1.mat')\n",
    "nu = datafile['nu'][0]\n",
    "tau = datafile['tauk'][0]\n",
    "tdata = datafile['tQT']\n",
    "ydata = datafile['fQT']"
   ]
  },
  {
   "cell_type": "code",
   "execution_count": null,
   "id": "662cfd1e",
   "metadata": {},
   "outputs": [],
   "source": [
    "fitted_tau = np.zeros((len(nu),len(tau)))\n",
    "for i in range(len(nu)):\n",
    "    for j in range(len(tau)):\n",
    "        print(nu[i],tau[j])\n",
    "        try:\n",
    "            fitFunc = 'envelope'\n",
    "            noiseType = 2\n",
    "            sequence = 'ramsey'\n",
    "            pars,error = pf.fit_data(x_vector=tdata[i,j][0]*1e-6, y_vector=ydata[i,j][0],\n",
    "                sequence=sequence,dt=tdata[i,j][0][-1]*1e-6/len(tdata[i,j][0]*1e-6),fitFunc=fitFunc,\n",
    "                    verbose=0, noiseType=noiseType)\n",
    "            fitted_tau[i,j] = pars[1]\n",
    "            pars[0] = pars[0]*1e-3\n",
    "            pars[2] = pars[2]*1e-3\n",
    "        except ValueError:\n",
    "            print('Fitting Failed')\n",
    "            fitFunc = ''\n",
    "            noiseType = 1\n",
    "            sequence='echo'\n",
    "            pars,error = pf.fit_data(x_vector=tdata[i,j][0]*1e-6, y_vector=ydata[i,j][0],\n",
    "                sequence=sequence,dt=tdata[i,j][0][-1]/len(tdata[i,j][0]),fitFunc=fitFunc,\n",
    "                    verbose=0, noiseType=noiseType)\n",
    "            plt.plot(tdata[i,j][0],ydata[i,j][0])\n",
    "            plt.show()\n",
    "            fitted_tau[i,j] = pars[1]\n",
    "#             fitted_tau[i,j] = 1\n",
    "#             pars = [0.5,1-2*np.random.random(),0.5]\n",
    "        \n",
    "        pf.plot_data(awg=None,x_vector=tdata[i,j][0]*1e-6,y_vector=ydata[i,j][0]*1e-3,sequence=sequence,nu=nu[i],tauk=tau[j],fitted_pars=pars,fit_single_par_point=0,noiseType=noiseType,fitFunc=fitFunc,simulation=1)"
   ]
  },
  {
   "cell_type": "code",
   "execution_count": null,
   "id": "b3ec40ac",
   "metadata": {},
   "outputs": [],
   "source": [
    "fitted_tau[2,0]  = 0.53"
   ]
  },
  {
   "cell_type": "code",
   "execution_count": null,
   "id": "dad25621",
   "metadata": {},
   "outputs": [],
   "source": [
    "heatmap(1.75*fitted_tau,tau,nu,filename='sweepSim')"
   ]
  },
  {
   "cell_type": "markdown",
   "id": "618b6293",
   "metadata": {},
   "source": [
    "## Noise type 2 - B0 vs nu"
   ]
  },
  {
   "cell_type": "code",
   "execution_count": null,
   "id": "b437c66f",
   "metadata": {},
   "outputs": [],
   "source": [
    "from scipy.io import loadmat\n",
    "datafile = loadmat('G:\\Shared drives\\LFL\\Projects\\Generalized Markovian noise\\simulations\\DataFiles\\Aug22\\\\B0_nu_001.mat')\n",
    "nu = datafile['nu'][0]*1e3\n",
    "B0 = datafile['B0'][0]*1e3\n",
    "tauk = datafile['tauk'][0]\n",
    "tdata = datafile['tQT']\n",
    "ydata = datafile['fQT']"
   ]
  },
  {
   "cell_type": "code",
   "execution_count": null,
   "id": "94ab5b40",
   "metadata": {},
   "outputs": [],
   "source": [
    "nu"
   ]
  },
  {
   "cell_type": "code",
   "execution_count": null,
   "id": "45e10ca1",
   "metadata": {},
   "outputs": [],
   "source": [
    "fitted_tau = np.zeros((len(B0),len(nu)))\n",
    "for i in range(len(B0)):\n",
    "    for j in range(len(nu)):\n",
    "        try:\n",
    "            fitFunc = 'envelope'\n",
    "            noiseType = 2\n",
    "            sequence = 'ramsey'\n",
    "            pars,error = pf.fit_data(x_vector=tdata[i,j][0], y_vector=ydata[i,j][0],\n",
    "                sequence=sequence,dt=tdata[i,j][0][-1]/len(tdata[i,j][0]),fitFunc=fitFunc,\n",
    "                    verbose=0, noiseType=noiseType,simulation=1)\n",
    "            fitted_tau[i,j] = pars[1]\n",
    "            pars[0] = pars[0]*1e-3\n",
    "            pars[2] = pars[2]*1e-3\n",
    "        except ValueError:\n",
    "            print('Fitting Failed')\n",
    "            fitFunc = ''\n",
    "            noiseType = 1\n",
    "            sequence='echo'\n",
    "            pars,error = pf.fit_data(x_vector=tdata[i,j][0], y_vector=ydata[i,j][0],\n",
    "                sequence=sequence,dt=tdata[i,j][0][-1]/len(tdata[i,j][0]),fitFunc=fitFunc,\n",
    "                    verbose=0, noiseType=noiseType,simulation=1)\n",
    "            plt.plot(tdata[i,j][0],ydata[i,j][0])\n",
    "            plt.show()\n",
    "            fitted_tau[i,j] = pars[1]\n",
    "#             fitted_tau[i,j] = 1\n",
    "#             pars = [0.5,1-2*np.random.random(),0.5]\n",
    "        \n",
    "        pf.plot_data(awg=None,x_vector=tdata[i,j][0],y_vector=ydata[i,j][0],sequence=sequence,\n",
    "                     B0=B0[i],nu=nu[j],tauk=tauk,fitted_pars=pars,fit_single_par_point=0,\n",
    "                     noiseType=noiseType,fitFunc=fitFunc,simulation=1)"
   ]
  },
  {
   "cell_type": "code",
   "execution_count": null,
   "id": "3b3df8ed",
   "metadata": {},
   "outputs": [],
   "source": [
    "heatmap(fitted_tau,nu,B0,filename='sweepSim_B0_nu')"
   ]
  },
  {
   "cell_type": "code",
   "execution_count": null,
   "id": "43fc8b62",
   "metadata": {},
   "outputs": [],
   "source": []
  }
 ],
 "metadata": {
  "kernelspec": {
   "display_name": "Python 3 (ipykernel)",
   "language": "python",
   "name": "python3"
  },
  "language_info": {
   "codemirror_mode": {
    "name": "ipython",
    "version": 3
   },
   "file_extension": ".py",
   "mimetype": "text/x-python",
   "name": "python",
   "nbconvert_exporter": "python",
   "pygments_lexer": "ipython3",
   "version": "3.10.4"
  },
  "toc": {
   "base_numbering": 1,
   "nav_menu": {},
   "number_sections": false,
   "sideBar": true,
   "skip_h1_title": false,
   "title_cell": "Table of Contents",
   "title_sidebar": "Contents",
   "toc_cell": false,
   "toc_position": {
    "height": "calc(100% - 180px)",
    "left": "10px",
    "top": "150px",
    "width": "384px"
   },
   "toc_section_display": true,
   "toc_window_display": true
  }
 },
 "nbformat": 4,
 "nbformat_minor": 5
}
